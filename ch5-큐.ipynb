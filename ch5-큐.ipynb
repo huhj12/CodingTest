{
 "cells": [
  {
   "cell_type": "markdown",
   "id": "512042bb",
   "metadata": {},
   "source": [
    "## 큐 -> FIFO, Lifo, priority\n",
    "Enqueue -> 큐에 데이터를 넣는 기능\n",
    "Dequeue -> 큐에 데이터를 빼는 기능"
   ]
  },
  {
   "cell_type": "code",
   "execution_count": 1,
   "id": "25ca6382",
   "metadata": {},
   "outputs": [],
   "source": [
    "import queue\n",
    "\n",
    "data_queue = queue.Queue()\n",
    "\n"
   ]
  },
  {
   "cell_type": "code",
   "execution_count": 2,
   "id": "25101209",
   "metadata": {},
   "outputs": [],
   "source": [
    "data_queue.put(\"a\")\n",
    "data_queue.put(1)"
   ]
  },
  {
   "cell_type": "code",
   "execution_count": 3,
   "id": "e1e33f77",
   "metadata": {
    "scrolled": true
   },
   "outputs": [
    {
     "data": {
      "text/plain": [
       "2"
      ]
     },
     "execution_count": 3,
     "metadata": {},
     "output_type": "execute_result"
    }
   ],
   "source": [
    "data_queue.qsize()"
   ]
  },
  {
   "cell_type": "code",
   "execution_count": 4,
   "id": "5336b644",
   "metadata": {},
   "outputs": [
    {
     "data": {
      "text/plain": [
       "'a'"
      ]
     },
     "execution_count": 4,
     "metadata": {},
     "output_type": "execute_result"
    }
   ],
   "source": [
    "data_queue.get()"
   ]
  },
  {
   "cell_type": "code",
   "execution_count": 5,
   "id": "0930fbbd",
   "metadata": {},
   "outputs": [
    {
     "data": {
      "text/plain": [
       "1"
      ]
     },
     "execution_count": 5,
     "metadata": {},
     "output_type": "execute_result"
    }
   ],
   "source": [
    "data_queue.qsize()"
   ]
  },
  {
   "cell_type": "code",
   "execution_count": 6,
   "id": "5530e653",
   "metadata": {},
   "outputs": [
    {
     "data": {
      "text/plain": [
       "1"
      ]
     },
     "execution_count": 6,
     "metadata": {},
     "output_type": "execute_result"
    }
   ],
   "source": [
    "data_queue.get()"
   ]
  },
  {
   "cell_type": "code",
   "execution_count": 7,
   "id": "2a0c56d4",
   "metadata": {},
   "outputs": [
    {
     "data": {
      "text/plain": [
       "0"
      ]
     },
     "execution_count": 7,
     "metadata": {},
     "output_type": "execute_result"
    }
   ],
   "source": [
    "data_queue.qsize()"
   ]
  },
  {
   "cell_type": "code",
   "execution_count": 8,
   "id": "dd3989dc",
   "metadata": {},
   "outputs": [],
   "source": [
    "data_queue = queue.LifoQueue()"
   ]
  },
  {
   "cell_type": "code",
   "execution_count": 9,
   "id": "060a7f0d",
   "metadata": {},
   "outputs": [],
   "source": [
    "data_queue.put(\"a\")\n",
    "data_queue.put(1)"
   ]
  },
  {
   "cell_type": "code",
   "execution_count": 10,
   "id": "21f73a2c",
   "metadata": {},
   "outputs": [
    {
     "data": {
      "text/plain": [
       "2"
      ]
     },
     "execution_count": 10,
     "metadata": {},
     "output_type": "execute_result"
    }
   ],
   "source": [
    "data_queue.qsize()"
   ]
  },
  {
   "cell_type": "code",
   "execution_count": 11,
   "id": "cbd1cc71",
   "metadata": {},
   "outputs": [
    {
     "data": {
      "text/plain": [
       "1"
      ]
     },
     "execution_count": 11,
     "metadata": {},
     "output_type": "execute_result"
    }
   ],
   "source": [
    "data_queue.get()"
   ]
  },
  {
   "cell_type": "code",
   "execution_count": 24,
   "id": "543b3c43",
   "metadata": {},
   "outputs": [],
   "source": [
    "data_Pqueue = queue.PriorityQueue()"
   ]
  },
  {
   "cell_type": "code",
   "execution_count": 25,
   "id": "767182dc",
   "metadata": {},
   "outputs": [],
   "source": [
    "data_Pqueue.put((10, \"korea\"))\n",
    "data_Pqueue.put((5, 1))\n",
    "data_Pqueue.put((15, \"china\"))"
   ]
  },
  {
   "cell_type": "code",
   "execution_count": 26,
   "id": "8ad5c6cc",
   "metadata": {},
   "outputs": [
    {
     "data": {
      "text/plain": [
       "3"
      ]
     },
     "execution_count": 26,
     "metadata": {},
     "output_type": "execute_result"
    }
   ],
   "source": [
    "data_Pqueue.qsize()"
   ]
  },
  {
   "cell_type": "code",
   "execution_count": 28,
   "id": "45ceaa6d",
   "metadata": {},
   "outputs": [
    {
     "data": {
      "text/plain": [
       "(5, 1)"
      ]
     },
     "execution_count": 28,
     "metadata": {},
     "output_type": "execute_result"
    }
   ],
   "source": [
    "data_Pqueue.get()"
   ]
  },
  {
   "cell_type": "markdown",
   "id": "575dbd01",
   "metadata": {},
   "source": [
    "### 참고: 어디에 큐가 많이 쓰일까?\n",
    "- 멀티 태스킹을 위한 프로세스 스케쥴링 방식을 구현하기 위해 많이 사용됨 (운영체제 참조)\n",
    "\n",
    "> 큐의 경우에는 장단점 보다는 (특별히 언급되는 장단점이 없음), 큐의 활용 예로 프로세스 스케쥴링 방식을 함께 이해해두는 것이 좋음"
   ]
  },
  {
   "cell_type": "code",
   "execution_count": 29,
   "id": "c6e4f1c7",
   "metadata": {},
   "outputs": [],
   "source": [
    "queue_list = list()\n",
    "\n",
    "def enqueue(data):\n",
    "    queue_list.append(data)\n",
    "\n",
    "def dequeue():\n",
    "    data = queue_list[0]\n",
    "    del queue_list[0]\n",
    "    return data\n",
    "    "
   ]
  },
  {
   "cell_type": "code",
   "execution_count": 30,
   "id": "3c71edad",
   "metadata": {},
   "outputs": [],
   "source": [
    "for index in range(10):\n",
    "    enqueue(index)\n",
    "    "
   ]
  },
  {
   "cell_type": "code",
   "execution_count": 31,
   "id": "a13729eb",
   "metadata": {},
   "outputs": [
    {
     "data": {
      "text/plain": [
       "10"
      ]
     },
     "execution_count": 31,
     "metadata": {},
     "output_type": "execute_result"
    }
   ],
   "source": [
    "len(queue_list)"
   ]
  },
  {
   "cell_type": "code",
   "execution_count": 33,
   "id": "da6e0fe3",
   "metadata": {},
   "outputs": [
    {
     "data": {
      "text/plain": [
       "1"
      ]
     },
     "execution_count": 33,
     "metadata": {},
     "output_type": "execute_result"
    }
   ],
   "source": [
    "dequeue()"
   ]
  },
  {
   "cell_type": "code",
   "execution_count": null,
   "id": "44a1772d",
   "metadata": {},
   "outputs": [],
   "source": []
  }
 ],
 "metadata": {
  "kernelspec": {
   "display_name": "Python 3 (ipykernel)",
   "language": "python",
   "name": "python3"
  },
  "language_info": {
   "codemirror_mode": {
    "name": "ipython",
    "version": 3
   },
   "file_extension": ".py",
   "mimetype": "text/x-python",
   "name": "python",
   "nbconvert_exporter": "python",
   "pygments_lexer": "ipython3",
   "version": "3.9.12"
  }
 },
 "nbformat": 4,
 "nbformat_minor": 5
}
