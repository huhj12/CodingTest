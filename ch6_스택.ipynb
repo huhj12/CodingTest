{
 "cells": [
  {
   "cell_type": "markdown",
   "id": "8fffcd3d",
   "metadata": {},
   "source": [
    "## 스택 LIFO\n",
    "데이터를 제한적으로 접근할 수 있는 구조\n",
    "\n",
    "컴퓨터 내부의 프로세스 구조의 함수 동작 방식\n",
    "\n",
    "push() 넣기\n",
    "pop() 꺼내기\n",
    "\n",
    "장점 \n",
    "구조가 단순해서 구현이 쉽다\n",
    "데이터 저장/읽기 속도가 빠르다\n",
    "\n",
    "단점\n",
    "데이터 최대 갯수를 미리 정해야 한다\n",
    "파이썬 재귀함수 최대 1000\n",
    "저장 공간의 낭비가 발생할 수 있다"
   ]
  },
  {
   "cell_type": "code",
   "execution_count": 1,
   "id": "6e66e2fe",
   "metadata": {},
   "outputs": [],
   "source": [
    "def recursive(data):\n",
    "    if data < 0:\n",
    "        print(\"ended\")\n",
    "    else:\n",
    "        print(data)\n",
    "        recursive(data-1)\n",
    "        print(\"returned\", data)"
   ]
  },
  {
   "cell_type": "code",
   "execution_count": 2,
   "id": "9eb8fee2",
   "metadata": {},
   "outputs": [
    {
     "name": "stdout",
     "output_type": "stream",
     "text": [
      "4\n",
      "3\n",
      "2\n",
      "1\n",
      "0\n",
      "ended\n",
      "returned 0\n",
      "returned 1\n",
      "returned 2\n",
      "returned 3\n",
      "returned 4\n"
     ]
    }
   ],
   "source": [
    "recursive(4)"
   ]
  },
  {
   "cell_type": "code",
   "execution_count": 4,
   "id": "7b8b0428",
   "metadata": {},
   "outputs": [],
   "source": [
    "data_stack = list()\n",
    "data_stack.append(1)\n",
    "data_stack.append(2)"
   ]
  },
  {
   "cell_type": "code",
   "execution_count": 5,
   "id": "1ea2b4d2",
   "metadata": {},
   "outputs": [
    {
     "data": {
      "text/plain": [
       "[1, 2]"
      ]
     },
     "execution_count": 5,
     "metadata": {},
     "output_type": "execute_result"
    }
   ],
   "source": [
    "data_stack"
   ]
  },
  {
   "cell_type": "code",
   "execution_count": 6,
   "id": "a8eb44e6",
   "metadata": {},
   "outputs": [
    {
     "data": {
      "text/plain": [
       "2"
      ]
     },
     "execution_count": 6,
     "metadata": {},
     "output_type": "execute_result"
    }
   ],
   "source": [
    "data_stack.pop()"
   ]
  },
  {
   "cell_type": "code",
   "execution_count": 8,
   "id": "c3ec2531",
   "metadata": {},
   "outputs": [],
   "source": [
    "data_stack = list()"
   ]
  },
  {
   "cell_type": "code",
   "execution_count": 9,
   "id": "3bc9cb05",
   "metadata": {},
   "outputs": [],
   "source": [
    "def push(data):\n",
    "    data_stack.append(data)\n",
    "    \n",
    "def pop():\n",
    "    data = data_stack[-1]\n",
    "    del data_stack[-1]\n",
    "    return data"
   ]
  },
  {
   "cell_type": "code",
   "execution_count": 10,
   "id": "5fcc52b7",
   "metadata": {},
   "outputs": [],
   "source": [
    "for index in range(10):\n",
    "    push(index)"
   ]
  },
  {
   "cell_type": "code",
   "execution_count": 11,
   "id": "a27f1c2b",
   "metadata": {},
   "outputs": [
    {
     "data": {
      "text/plain": [
       "9"
      ]
     },
     "execution_count": 11,
     "metadata": {},
     "output_type": "execute_result"
    }
   ],
   "source": [
    "pop()"
   ]
  },
  {
   "cell_type": "code",
   "execution_count": null,
   "id": "f60af78c",
   "metadata": {},
   "outputs": [],
   "source": []
  }
 ],
 "metadata": {
  "kernelspec": {
   "display_name": "Python 3 (ipykernel)",
   "language": "python",
   "name": "python3"
  },
  "language_info": {
   "codemirror_mode": {
    "name": "ipython",
    "version": 3
   },
   "file_extension": ".py",
   "mimetype": "text/x-python",
   "name": "python",
   "nbconvert_exporter": "python",
   "pygments_lexer": "ipython3",
   "version": "3.9.12"
  }
 },
 "nbformat": 4,
 "nbformat_minor": 5
}
