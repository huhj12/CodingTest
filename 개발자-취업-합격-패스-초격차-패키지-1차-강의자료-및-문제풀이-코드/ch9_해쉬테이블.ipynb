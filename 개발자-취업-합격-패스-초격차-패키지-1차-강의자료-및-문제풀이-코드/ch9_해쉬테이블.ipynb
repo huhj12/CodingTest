{
 "cells": [
  {
   "cell_type": "code",
   "execution_count": 1,
   "id": "7fdad572",
   "metadata": {},
   "outputs": [
    {
     "data": {
      "text/plain": [
       "[0, 1, 2, 3, 4, 5, 6, 7, 8, 9]"
      ]
     },
     "execution_count": 1,
     "metadata": {},
     "output_type": "execute_result"
    }
   ],
   "source": [
    "hash_table = list([i for i in range(10)])\n",
    "hash_table"
   ]
  },
  {
   "cell_type": "code",
   "execution_count": 2,
   "id": "35581ce9",
   "metadata": {},
   "outputs": [],
   "source": [
    " def hash_func(key):\n",
    "        return key%5\n"
   ]
  },
  {
   "cell_type": "code",
   "execution_count": 5,
   "id": "76bdc9db",
   "metadata": {},
   "outputs": [
    {
     "name": "stdout",
     "output_type": "stream",
     "text": [
      "65 68 84\n",
      "65 0\n",
      "65 65\n"
     ]
    }
   ],
   "source": [
    "data1 = 'Andy'\n",
    "data2 = 'Dave'\n",
    "data3 = 'Trump'\n",
    "data4 = 'Anthor'\n",
    "\n",
    "print(ord(data1[0]),ord(data2[0]),ord(data3[0]))\n",
    "print (ord(data1[0]), hash_func(ord(data1[0])))\n",
    "print (ord(data1[0]), ord(data4[0]))"
   ]
  },
  {
   "cell_type": "code",
   "execution_count": 6,
   "id": "18ec79c6",
   "metadata": {},
   "outputs": [],
   "source": [
    "def storage_data(data, value):\n",
    "    key = ord(data[0])\n",
    "    hash_address = hash_func(key)\n",
    "    hash_table[hash_address] = value"
   ]
  },
  {
   "cell_type": "code",
   "execution_count": 7,
   "id": "6e6c3daf",
   "metadata": {},
   "outputs": [],
   "source": [
    "storage_data('Andy', '01055553333')\n",
    "storage_data('Dave', '01044443333')\n",
    "storage_data('Trump', '01022223333')"
   ]
  },
  {
   "cell_type": "code",
   "execution_count": 8,
   "id": "c6643c40",
   "metadata": {},
   "outputs": [],
   "source": [
    "def get_data(data):\n",
    "    key = ord(data[0])\n",
    "    hash_address = hash_func(key)\n",
    "    return hash_table[hash_address]"
   ]
  },
  {
   "cell_type": "code",
   "execution_count": 9,
   "id": "480cd8b7",
   "metadata": {},
   "outputs": [
    {
     "data": {
      "text/plain": [
       "'01055553333'"
      ]
     },
     "execution_count": 9,
     "metadata": {},
     "output_type": "execute_result"
    }
   ],
   "source": [
    "get_data('Andy')"
   ]
  },
  {
   "cell_type": "code",
   "execution_count": null,
   "id": "96840790",
   "metadata": {},
   "outputs": [],
   "source": []
  }
 ],
 "metadata": {
  "kernelspec": {
   "display_name": "Python 3 (ipykernel)",
   "language": "python",
   "name": "python3"
  },
  "language_info": {
   "codemirror_mode": {
    "name": "ipython",
    "version": 3
   },
   "file_extension": ".py",
   "mimetype": "text/x-python",
   "name": "python",
   "nbconvert_exporter": "python",
   "pygments_lexer": "ipython3",
   "version": "3.9.12"
  }
 },
 "nbformat": 4,
 "nbformat_minor": 5
}
